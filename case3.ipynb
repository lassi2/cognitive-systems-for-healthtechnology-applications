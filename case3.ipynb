{
 "cells": [
  {
   "cell_type": "markdown",
   "metadata": {},
   "source": [
    "# Case 3\n",
    "Cognitive Systems for Health Technology Applications   \n",
    "Lassi Nurminen   \n",
    "Last edited: 11.3.2018\n"
   ]
  },
  {
   "cell_type": "markdown",
   "metadata": {},
   "source": [
    "## Objectives \n",
    "The aim of this assignment isto learn to use recurrent and 1D convolutional neural networks to\n",
    "categorize medical texts"
   ]
  },
  {
   "cell_type": "code",
   "execution_count": 30,
   "metadata": {},
   "outputs": [
    {
     "name": "stdout",
     "output_type": "stream",
     "text": [
      "Time elapsed: 2 seconds.\n"
     ]
    }
   ],
   "source": [
    "import os\n",
    "import time\n",
    "ohsumed_dir = 'ohsumed-first-20000-docs'\n",
    "train_dir = os.path.join(ohsumed_dir, 'training')\n",
    "\n",
    "labels = []\n",
    "texts = []\n",
    "\n",
    "t1 = time.time()\n",
    "\n",
    "# Generate a list L = ['C01', 'C02, ..., 'C023']\n",
    "L = ['C{:02}'.format(n) for n in range(1, 23 + 1)]\n",
    "for label_type in L:\n",
    "    dir_name = os.path.join(train_dir, label_type)\n",
    "    for fname in os.listdir(dir_name):\n",
    "        f = open(os.path.join(dir_name, fname))\n",
    "        texts.append(f.read())\n",
    "        f.close()\n",
    "        i = L.index(label_type)\n",
    "        labels.append(i)\n",
    "        \n",
    "t2 = time.time()\n",
    "\n",
    "print('Time elapsed: {:.0f} seconds.'.format((t2-t1)))"
   ]
  },
  {
   "cell_type": "markdown",
   "metadata": {},
   "source": [
    "## Tokenize the text of the raw data\n"
   ]
  },
  {
   "cell_type": "code",
   "execution_count": 31,
   "metadata": {},
   "outputs": [
    {
     "name": "stdout",
     "output_type": "stream",
     "text": [
      "Found 30857 unique tokens\n"
     ]
    }
   ],
   "source": [
    "from keras.preprocessing.text import Tokenizer\n",
    "from keras.preprocessing.sequence import pad_sequences\n",
    "import numpy as np\n",
    "\n",
    "maxlen = 300\n",
    "max_words = 20000\n",
    "\n",
    "tokenizer = Tokenizer(num_words = max_words)\n",
    "tokenizer.fit_on_texts(texts)\n",
    "sequences = tokenizer.texts_to_sequences(texts)\n",
    "\n",
    "word_index = tokenizer.word_index\n",
    "print('Found %s unique tokens' % len(word_index))"
   ]
  },
  {
   "cell_type": "markdown",
   "metadata": {},
   "source": [
    "### Shape the data and labels"
   ]
  },
  {
   "cell_type": "code",
   "execution_count": 3,
   "metadata": {},
   "outputs": [
    {
     "name": "stdout",
     "output_type": "stream",
     "text": [
      "Shape of data tensor: (10433, 300)\n",
      "Shape of labels tensor: (10433, 23)\n"
     ]
    }
   ],
   "source": [
    "from keras.utils.np_utils import to_categorical\n",
    "\n",
    "data = pad_sequences(sequences, maxlen = maxlen)\n",
    "\n",
    "labels = np.asarray(labels)\n",
    "one_hot_labels = to_categorical(labels)\n",
    "\n",
    "\n",
    "print('Shape of data tensor:', data.shape)\n",
    "print('Shape of labels tensor:', one_hot_labels.shape)"
   ]
  },
  {
   "cell_type": "markdown",
   "metadata": {},
   "source": [
    "### Shuffle the data and labels"
   ]
  },
  {
   "cell_type": "code",
   "execution_count": 4,
   "metadata": {
    "collapsed": true
   },
   "outputs": [],
   "source": [
    "indices = np.arange(data.shape[0])\n",
    "np.random.shuffle(indices)\n",
    "data = data[indices]\n",
    "labels = labels[indices]\n",
    "one_hot_labels = one_hot_labels[indices]"
   ]
  },
  {
   "cell_type": "markdown",
   "metadata": {},
   "source": [
    "## Build the model\n"
   ]
  },
  {
   "cell_type": "code",
   "execution_count": 5,
   "metadata": {},
   "outputs": [
    {
     "name": "stdout",
     "output_type": "stream",
     "text": [
      "_________________________________________________________________\n",
      "Layer (type)                 Output Shape              Param #   \n",
      "=================================================================\n",
      "embedding_1 (Embedding)      (None, 300, 8)            160000    \n",
      "_________________________________________________________________\n",
      "flatten_1 (Flatten)          (None, 2400)              0         \n",
      "_________________________________________________________________\n",
      "dense_1 (Dense)              (None, 1024)              2458624   \n",
      "_________________________________________________________________\n",
      "dense_2 (Dense)              (None, 256)               262400    \n",
      "_________________________________________________________________\n",
      "dense_3 (Dense)              (None, 23)                5911      \n",
      "=================================================================\n",
      "Total params: 2,886,935\n",
      "Trainable params: 2,886,935\n",
      "Non-trainable params: 0\n",
      "_________________________________________________________________\n"
     ]
    }
   ],
   "source": [
    "from keras.models import Sequential\n",
    "from keras.layers import Flatten, Dense, Embedding\n",
    "\n",
    "model = Sequential()\n",
    "model.add(Embedding(max_words, 8, input_length=maxlen))\n",
    "model.add(Flatten())\n",
    "model.add(Dense(1024, activation = 'relu'))\n",
    "model.add(Dense(256, activation = 'relu'))\n",
    "model.add(Dense(len(L), activation = 'softmax'))\n",
    "\n",
    "model.compile(optimizer = 'rmsprop',\n",
    "             loss = 'categorical_crossentropy',\n",
    "             metrics = ['accuracy'])\n",
    "\n",
    "model.summary()"
   ]
  },
  {
   "cell_type": "markdown",
   "metadata": {},
   "source": [
    "## Train the model   \n",
    "I tried different batch sizes and number of epochs but accuracy is still very low. "
   ]
  },
  {
   "cell_type": "code",
   "execution_count": 28,
   "metadata": {},
   "outputs": [
    {
     "name": "stdout",
     "output_type": "stream",
     "text": [
      "Train on 8346 samples, validate on 2087 samples\n",
      "Epoch 1/10\n",
      "8346/8346 [==============================] - 21s 3ms/step - loss: 1.1242 - acc: 0.6107 - val_loss: 10.6238 - val_acc: 0.1092\n",
      "Epoch 2/10\n",
      "8346/8346 [==============================] - 20s 2ms/step - loss: 1.0588 - acc: 0.6201 - val_loss: 10.2770 - val_acc: 0.0954\n",
      "Epoch 3/10\n",
      "8346/8346 [==============================] - 20s 2ms/step - loss: 1.0361 - acc: 0.6214 - val_loss: 10.3336 - val_acc: 0.0977\n",
      "Epoch 4/10\n",
      "8346/8346 [==============================] - 21s 3ms/step - loss: 1.0189 - acc: 0.6133 - val_loss: 10.4160 - val_acc: 0.0877\n",
      "Epoch 5/10\n",
      "8346/8346 [==============================] - 23s 3ms/step - loss: 1.0064 - acc: 0.6239 - val_loss: 10.6223 - val_acc: 0.0954\n",
      "Epoch 6/10\n",
      "8346/8346 [==============================] - 21s 2ms/step - loss: 1.0261 - acc: 0.6195 - val_loss: 10.3237 - val_acc: 0.0939\n",
      "Epoch 7/10\n",
      "8346/8346 [==============================] - 20s 2ms/step - loss: 1.0213 - acc: 0.6308 - val_loss: 10.2566 - val_acc: 0.0973\n",
      "Epoch 8/10\n",
      "8346/8346 [==============================] - 19s 2ms/step - loss: 1.0109 - acc: 0.6193 - val_loss: 10.2957 - val_acc: 0.0839\n",
      "Epoch 9/10\n",
      "8346/8346 [==============================] - 20s 2ms/step - loss: 0.9984 - acc: 0.6257 - val_loss: 10.9998 - val_acc: 0.0997\n",
      "Epoch 10/10\n",
      "8346/8346 [==============================] - 20s 2ms/step - loss: 1.0043 - acc: 0.6209 - val_loss: 9.0333 - val_acc: 0.0944\n",
      "Elapsed time: 205.43 seconds\n"
     ]
    }
   ],
   "source": [
    "import time\n",
    "\n",
    "t1 = time.time()\n",
    "history = model.fit(data, one_hot_labels,\n",
    "                   epochs = 10,\n",
    "                   batch_size = 50,\n",
    "                   validation_split = 0.2)\n",
    "t2 = time.time()\n",
    "print('Elapsed time: {:.2f} seconds'.format((t2-t1)))"
   ]
  },
  {
   "cell_type": "markdown",
   "metadata": {},
   "source": [
    "## Training results"
   ]
  },
  {
   "cell_type": "code",
   "execution_count": 29,
   "metadata": {},
   "outputs": [
    {
     "data": {
      "image/png": "[encoded data removed]",
      "text/plain": [
       "<matplotlib.figure.Figure at 0x2c244347f28>"
      ]
     },
     "metadata": {},
     "output_type": "display_data"
    },
    {
     "data": {
      "image/png": "[encoded data removed]",
      "text/plain": [
       "<matplotlib.figure.Figure at 0x2c24444ddd8>"
      ]
     },
     "metadata": {},
     "output_type": "display_data"
    }
   ],
   "source": [
    "import matplotlib.pyplot as plt\n",
    "\n",
    "acc = history.history['acc']\n",
    "val_acc = history.history['val_acc']\n",
    "loss = history.history['loss']\n",
    "val_loss = history.history['val_loss']\n",
    "\n",
    "epochs = range(1, len(acc) + 1)\n",
    "\n",
    "plt.figure(figsize=(15, 3))\n",
    "plt.plot(epochs, acc, 'bo', label='Training acc')\n",
    "plt.plot(epochs, val_acc, 'b', label='Validation acc')\n",
    "plt.title('Training and validation accuracy')\n",
    "plt.grid()\n",
    "plt.xlabel('Epoch')\n",
    "plt.legend()\n",
    "\n",
    "\n",
    "plt.figure(figsize=(15, 3))\n",
    "plt.plot(epochs, loss, 'bo', label='Training loss')\n",
    "plt.plot(epochs, val_loss, 'b', label='Validation loss')\n",
    "plt.title('Training and validation loss')\n",
    "plt.grid()\n",
    "plt.xlabel('Epoch')\n",
    "plt.legend()\n",
    "\n",
    "plt.show()"
   ]
  },
  {
   "cell_type": "markdown",
   "metadata": {},
   "source": [
    "## Metrics results"
   ]
  },
  {
   "cell_type": "code",
   "execution_count": 9,
   "metadata": {
    "collapsed": true
   },
   "outputs": [],
   "source": [
    "# Calculate the predictions\n",
    "predictions = model.predict(data)\n",
    "y_pred = np.argmax(predictions, axis = 1)"
   ]
  },
  {
   "cell_type": "code",
   "execution_count": 10,
   "metadata": {
    "collapsed": true
   },
   "outputs": [],
   "source": [
    "# http://scikit-learn.org/stable/modules/model_evaluation.html\n",
    "from sklearn.metrics import accuracy_score, precision_score, f1_score, confusion_matrix\n",
    "from sklearn.metrics import classification_report, recall_score"
   ]
  },
  {
   "cell_type": "code",
   "execution_count": 11,
   "metadata": {},
   "outputs": [
    {
     "name": "stdout",
     "output_type": "stream",
     "text": [
      "             precision    recall  f1-score   support\n",
      "\n",
      "          0       0.59      0.42      0.49       423\n",
      "          1       0.67      0.22      0.33       158\n",
      "          2       0.49      0.63      0.55        65\n",
      "          3       0.57      0.69      0.62      1163\n",
      "          4       0.78      0.33      0.46       283\n",
      "          5       0.70      0.33      0.44       588\n",
      "          6       0.59      0.50      0.54       100\n",
      "          7       0.58      0.40      0.47       473\n",
      "          8       0.55      0.58      0.56       125\n",
      "          9       0.49      0.70      0.58       621\n",
      "         10       0.59      0.49      0.54       162\n",
      "         11       0.55      0.53      0.54       491\n",
      "         12       0.57      0.49      0.53       281\n",
      "         13       0.74      0.56      0.64      1249\n",
      "         14       0.45      0.56      0.50       215\n",
      "         15       0.54      0.60      0.57       200\n",
      "         16       0.53      0.54      0.53       295\n",
      "         17       0.59      0.64      0.61       388\n",
      "         18       0.47      0.52      0.49       191\n",
      "         19       0.56      0.64      0.60       525\n",
      "         20       0.75      0.49      0.59       546\n",
      "         21       0.51      0.30      0.38        92\n",
      "         22       0.45      0.63      0.53      1799\n",
      "\n",
      "avg / total       0.58      0.55      0.55     10433\n",
      "\n"
     ]
    }
   ],
   "source": [
    "# Classification results per class\n",
    "print(classification_report(labels, y_pred))"
   ]
  },
  {
   "cell_type": "code",
   "execution_count": 12,
   "metadata": {
    "scrolled": false
   },
   "outputs": [
    {
     "name": "stdout",
     "output_type": "stream",
     "text": [
      "[[ 177    3    3   11    1   11    2   10    1   26    7    8   14   10    8    3    8    4    2\n",
      "    33    4    4   73]\n",
      " [   2   34    3   14    0    0    2    4    1    7    4    0    7    2    1    1    5    1    0\n",
      "    46    0    1   23]\n",
      " [   2    0   41    2    0    0    0    3    0    4    1    1    2    0    0    0    0    0    0\n",
      "     2    0    0    7]\n",
      " [   2    1    1  804    3    8   11   22   17   39    8   61    9   13   17    2   12   13   15\n",
      "    16    3    1   85]\n",
      " [  12    0    0   13   92    2    2    3    1   30    3    4    2    3    2    6   14   11    5\n",
      "     3   14    1   60]\n",
      " [  16    4    4   73    3  192    0    6    0   20    0   16    5   13   10    4    6   14    6\n",
      "    11   15    5  165]\n",
      " [   0    0    0   18    0    0   50    2    2    2    1    0    0    1    1    1    4    1    0\n",
      "     3    0    0   14]\n",
      " [  18    3    2   50    1    3    1  189    9   15    1    5    5   17   11    6    5    4    2\n",
      "    36    8    2   80]\n",
      " [   1    0    0   14    1    0    0    0   72    5    1    0    0    1    0    3    1    0    0\n",
      "     1    0    0   25]\n",
      " [   4    1    3   21    0    0    0    3    1  436    2    3    4   21    2    7    3    5    4\n",
      "     5    7    0   89]\n",
      " [   3    1    4    9    0    0    1    0    0   13   79    0    0    2    3    0    7    4    1\n",
      "     8    0    0   27]\n",
      " [   6    0    1   49    0    5    1    3    1   12    0  262    6   20   15    4    6   15   12\n",
      "    10    1    1   61]\n",
      " [   2    0    1   42    0    1    0    3    0    7    0   10  139    5    6    8    2    3    3\n",
      "     9    1    0   39]\n",
      " [  10    1    1   12    1    2    1   12    0   46    2   24    9  695   12   19   14   39   15\n",
      "    17    6    4  307]\n",
      " [   4    0    1   12    0    0    1    1    0   12    1    9    2    7  120    0    7    1    0\n",
      "     8    0    1   28]\n",
      " [   0    0    1   13    1    0    0    4    0    2    2    5    2   13    1  120    2    1    1\n",
      "     2    0    0   30]\n",
      " [   0    0    1   26    2    3    3    0    3   13    1    5    3    6    7    2  158    3    1\n",
      "     9    4    2   43]\n",
      " [   4    0    1    8    0    2    4    0    0    4    3    6    1   20    3    0    2  250   23\n",
      "     4    2    2   49]\n",
      " [   0    0    0   23    0    0    0    1    0    5    0    3    2    6    2    0    3   26   99\n",
      "     4    1    1   15]\n",
      " [   3    1    6   38    1    4    2    6    5   25    3    3   10    3    7    3   10    5    6\n",
      "   336    4    0   44]\n",
      " [  14    0    1   16    4    9    2    9    2   43    7    9    3   20    5    1    5    5    0\n",
      "    18  266    2  105]\n",
      " [   0    0    1    2    0    2    0    5    0    1    0    2    0    7    1    0    4    6    0\n",
      "     0    6   28   27]\n",
      " [  19    2    7  147    8   32    2   38   15  126    7   39   18   53   34   32   18   15   15\n",
      "    17   15    0 1140]]\n"
     ]
    }
   ],
   "source": [
    "# Confusion matrix\n",
    "cm = confusion_matrix(labels, y_pred)\n",
    "print(np.array2string(cm, max_line_width = 100))"
   ]
  },
  {
   "cell_type": "code",
   "execution_count": 13,
   "metadata": {},
   "outputs": [
    {
     "name": "stdout",
     "output_type": "stream",
     "text": [
      "Primary progressive aphasia. Longitudinal course, neuropsychological profile, and language features.\n",
      " Four patients with the clinical syndrome of primary progressive aphasia and a nonfluent aphasia profile were followed up over a period of 3 to 5 years.\n",
      " Extensive neuropsychological data for three patients revealed a progressive, quantitative decline of language with relative stability of memory, visuospatial skills, and reasoning.\n",
      " Comportment and most activities of daily living were preserved even when speech was unintelligible.\n",
      " Although several aphasia types may be associated with primary progressive aphasia, a nonfluent aphasia profile and phonemic paraphasic errors are most useful in differentiating it from the much more common clinical syndrome, \"probable Alzheimer's disease.\" The clinicopathological correlates of probable Alzheimer's disease differ from those associated with primary progressive aphasia.\n",
      " Therefore, the clinical distinction between the two syndromes may be important for predicting the underlying pathophysiologic changes during the life of the patient.\n",
      "\n"
     ]
    }
   ],
   "source": [
    "print(texts[indices[512]])"
   ]
  },
  {
   "cell_type": "code",
   "execution_count": 14,
   "metadata": {},
   "outputs": [
    {
     "name": "stdout",
     "output_type": "stream",
     "text": [
      "True class:  9\n",
      "Predicted class: 9\n",
      "Predictions per class:\n",
      "[  1.09e-04   2.72e-05   1.10e-05   2.95e-02   1.13e-03   1.89e-04\n",
      "   7.96e-06   9.61e-05   2.96e-05   9.52e-01   1.22e-04   5.62e-05\n",
      "   2.22e-04   4.37e-03   1.69e-03   5.23e-04   8.58e-03   6.52e-05\n",
      "   8.54e-05   1.90e-04   3.65e-04   3.98e-06   7.44e-04]\n"
     ]
    },
    {
     "data": {
      "image/png": "[encoded data removed]",
      "text/plain": [
       "<matplotlib.figure.Figure at 0x2c24413fb70>"
      ]
     },
     "metadata": {},
     "output_type": "display_data"
    }
   ],
   "source": [
    "print('True class: ', labels[512])\n",
    "print('Predicted class:', y_pred[512])\n",
    "print('Predictions per class:')\n",
    "print(np.array2string(predictions[512], precision = 2))\n",
    "\n",
    "plt.stem(predictions[512])\n",
    "plt.show()"
   ]
  },
  {
   "cell_type": "code",
   "execution_count": 15,
   "metadata": {},
   "outputs": [
    {
     "data": {
      "text/plain": [
       "'1.12.1'"
      ]
     },
     "execution_count": 15,
     "metadata": {},
     "output_type": "execute_result"
    }
   ],
   "source": [
    "np.__version__"
   ]
  },
  {
   "cell_type": "code",
   "execution_count": null,
   "metadata": {
    "collapsed": true
   },
   "outputs": [],
   "source": []
  }
 ],
 "metadata": {
  "kernelspec": {
   "display_name": "Python 3",
   "language": "python",
   "name": "python3"
  },
  "language_info": {
   "codemirror_mode": {
    "name": "ipython",
    "version": 3
   },
   "file_extension": ".py",
   "mimetype": "text/x-python",
   "name": "python",
   "nbconvert_exporter": "python",
   "pygments_lexer": "ipython3",
   "version": "3.6.3"
  }
 },
 "nbformat": 4,
 "nbformat_minor": 2
}
